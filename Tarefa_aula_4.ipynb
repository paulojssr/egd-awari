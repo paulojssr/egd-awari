{
 "cells": [
  {
   "cell_type": "code",
   "execution_count": null,
   "id": "4014c34e-075c-432d-be46-f6cb90808938",
   "metadata": {
    "tags": []
   },
   "outputs": [],
   "source": [
    "### Sequência de Fibonacci ###"
   ]
  },
  {
   "cell_type": "code",
   "execution_count": 21,
   "id": "e645fe93-5670-4858-b6a1-1c1173b3ed32",
   "metadata": {
    "tags": []
   },
   "outputs": [
    {
     "data": {
      "text/plain": [
       "[0, 1, 1, 2, 3, 5, 8, 13, 21, 34, 55, 89]"
      ]
     },
     "execution_count": 21,
     "metadata": {},
     "output_type": "execute_result"
    }
   ],
   "source": [
    "# Valor de entrada\n",
    "inputValue = 100\n",
    "\n",
    "# Os primeiros dígitos da sequência\n",
    "sequence = [0,1]\n",
    "\n",
    "# continua gerando número até que o próximo seja maior que o valor de entrada\n",
    "while True:\n",
    "    next_value = sequence[-1] + sequence[-2]\n",
    "    if next_value > inputValue:\n",
    "        break\n",
    "    sequence.append(next_value)\n",
    "\n",
    "# Saida com números gerados com limite até 100\n",
    "sequence"
   ]
  },
  {
   "cell_type": "code",
   "execution_count": 74,
   "id": "4a49dd30-8be4-424d-bb98-bc24d63d4fed",
   "metadata": {
    "tags": []
   },
   "outputs": [],
   "source": [
    "### Fatorial de 1024 ###"
   ]
  },
  {
   "cell_type": "code",
   "execution_count": 75,
   "id": "be71bef0-5bc2-4a34-90d3-bbbfda21ed4e",
   "metadata": {
    "tags": []
   },
   "outputs": [
    {
     "data": {
      "text/plain": [
       "541852879605885728307692194468385473800155396353801344448287027068321061207337660373314098413621458671907918845708980753931994165770187368260454133333721939108367528012764993769768292516937891165755680659663747947314518404886677672556125188694335251213677274521963430770133713205796248433128870088436171654690237518390452944732277808402932158722061853806162806063925435310822186848239287130261690914211362251144684713888587881629252104046295315949943900357882410243934315037444113890806181406210863953275235375885018598451582229599654558541242789130902486944298610923153307579131675745146436304024890820442907734561827369030502252796926553072967370990758747793127635104702469889667961462133026237158973227857814631807156427767644064591085076564783456324457736853810336981776080498707767046394272605341416779125697733374568037475186676265961665615884681450263337042522664141862157046825684773360944326737493676674915098953768112945831626643856479027816385730291542667725665642276826058264393884514911976419675509290208592713156362983290989441052732125187249527501314071676405516936190781821236701912295767363117054126589929916482008515781751955466910902838729232224509906388638147771255227782631322385756948819393658889908993670874516860653098411020299853816281564334981847105777839534742531499622103488807584513705769839763993103929665046046121166651345131149513657400869056334867859885025601787284982567787314407216524272262997319791568603629406624740101482697559533155736658800562921274680657285201570401940692285557800611429055755324549794008939849146812639860750085263298820224719585505344773711590656682821041417265040658600683844945104354998812886801316551551714673388323340851763819713591312372548673734783537316341517369387565212899726597964903241208727348690699802996369265070088758384854547542272771024255049902319275830918157448205196421072837204937293516175341957775422453152442280391372407717891661203061040255830055033886790052116025408740454620938384367637886658769912790922323717371343176067483352513629123362885893627132294183565884010418727869354439077085278288558308427090461075019007184933139915558212752392329879780649639075333845719173822840501869570463626600235265587502335595489311637509380219119860471335771652403999403296360245577257963673286654348957325740999710567131623272345766761937651408103999193633908286420510098577454524068106897392493138287362226257920000000000000000000000000000000000000000000000000000000000000000000000000000000000000000000000000000000000000000000000000000000000000000000000000000000000000000000000000000000000000000000000000000000000000000000000000000000000000000000000000000000000000"
      ]
     },
     "execution_count": 75,
     "metadata": {},
     "output_type": "execute_result"
    }
   ],
   "source": [
    "# Valor de entrada\n",
    "inputValue = 1024\n",
    "\n",
    "result = 1\n",
    "for i in range(2,(inputValue + 1)):\n",
    "    result = result * i\n",
    "\n",
    "# Saida com o produto do fatorial de 1024\n",
    "result\n",
    "\n"
   ]
  },
  {
   "cell_type": "code",
   "execution_count": null,
   "id": "3e78d907-724f-40aa-bbef-3e532143118d",
   "metadata": {},
   "outputs": [],
   "source": []
  },
  {
   "cell_type": "code",
   "execution_count": 76,
   "id": "f0a2d06f-e254-4d81-8851-dd238c66269b",
   "metadata": {
    "tags": []
   },
   "outputs": [
    {
     "name": "stdin",
     "output_type": "stream",
     "text": [
      "Digite uma fruta para consultar (ou 999 para sair):  pêra\n"
     ]
    },
    {
     "name": "stdout",
     "output_type": "stream",
     "text": [
      "A fruta 'pêra' foi adicionada à lista.\n",
      "\n",
      "Lista atual de frutas: ['bananas', 'maçãs', 'peras', 'uvas', 'laranjas', 'pêra'] \n",
      "\n"
     ]
    },
    {
     "name": "stdin",
     "output_type": "stream",
     "text": [
      "Digite uma fruta para consultar (ou 999 para sair):  9999\n"
     ]
    },
    {
     "name": "stdout",
     "output_type": "stream",
     "text": [
      "A fruta '9999' foi adicionada à lista.\n",
      "\n",
      "Lista atual de frutas: ['bananas', 'maçãs', 'peras', 'uvas', 'laranjas', 'pêra', '9999'] \n",
      "\n"
     ]
    },
    {
     "name": "stdin",
     "output_type": "stream",
     "text": [
      "Digite uma fruta para consultar (ou 999 para sair):  999\n"
     ]
    },
    {
     "name": "stdout",
     "output_type": "stream",
     "text": [
      "Encerrando o programa...\n",
      "Lista final de frutas: ['bananas', 'maçãs', 'peras', 'uvas', 'laranjas', 'pêra', '9999']\n"
     ]
    }
   ],
   "source": [
    "# Lista inicial de frutas\n",
    "frutas = [\"bananas\", \"maçãs\", \"peras\", \"uvas\", \"laranjas\"]\n",
    "\n",
    "while True:\n",
    "    # Solicita ao usuário que insira uma fruta\n",
    "    entrada = input(\"Digite uma fruta para consultar (ou 999 para sair): \").strip().lower()\n",
    "\n",
    "    # Verifica se o usuário deseja sair\n",
    "    if entrada == \"999\":\n",
    "        print(\"Encerrando o programa...\")\n",
    "        break\n",
    "\n",
    "    # Verifica se a fruta já está na lista\n",
    "    if entrada in frutas:\n",
    "        print(f\"A fruta '{entrada}' já está na lista!\")\n",
    "    else:\n",
    "        # Adiciona a nova fruta à lista\n",
    "        frutas.append(entrada)\n",
    "        print(f\"A fruta '{entrada}' foi adicionada à lista.\")\n",
    "\n",
    "    # Mostra a lista atualizada de frutas\n",
    "    print(\"\\nLista atual de frutas:\", frutas, \"\\n\")\n",
    "\n",
    "# Mensagem final\n",
    "print(\"Lista final de frutas:\", frutas)"
   ]
  },
  {
   "cell_type": "code",
   "execution_count": null,
   "id": "f2a64c07-38a6-4783-a62d-01e37fe0fec1",
   "metadata": {},
   "outputs": [],
   "source": []
  }
 ],
 "metadata": {
  "kernelspec": {
   "display_name": "Python 3 (ipykernel)",
   "language": "python",
   "name": "python3"
  },
  "language_info": {
   "codemirror_mode": {
    "name": "ipython",
    "version": 3
   },
   "file_extension": ".py",
   "mimetype": "text/x-python",
   "name": "python",
   "nbconvert_exporter": "python",
   "pygments_lexer": "ipython3",
   "version": "3.10.9"
  }
 },
 "nbformat": 4,
 "nbformat_minor": 5
}
