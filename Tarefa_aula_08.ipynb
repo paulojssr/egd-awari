{
 "cells": [
  {
   "cell_type": "code",
   "execution_count": 1,
   "id": "d4fe4fad-5cc2-476a-bb93-48793a5abdb4",
   "metadata": {
    "collapsed": true,
    "jupyter": {
     "outputs_hidden": true
    },
    "tags": []
   },
   "outputs": [
    {
     "name": "stdout",
     "output_type": "stream",
     "text": [
      "Requirement already satisfied: pandas in /opt/conda/lib/python3.10/site-packages (1.5.3)\n",
      "Requirement already satisfied: python-dateutil>=2.8.1 in /opt/conda/lib/python3.10/site-packages (from pandas) (2.8.2)\n",
      "Requirement already satisfied: pytz>=2020.1 in /opt/conda/lib/python3.10/site-packages (from pandas) (2022.7.1)\n",
      "Requirement already satisfied: numpy>=1.21.0 in /opt/conda/lib/python3.10/site-packages (from pandas) (1.23.5)\n",
      "Requirement already satisfied: six>=1.5 in /opt/conda/lib/python3.10/site-packages (from python-dateutil>=2.8.1->pandas) (1.16.0)\n",
      "Requirement already satisfied: boto3 in /opt/conda/lib/python3.10/site-packages (1.36.26)\n",
      "Requirement already satisfied: jmespath<2.0.0,>=0.7.1 in /opt/conda/lib/python3.10/site-packages (from boto3) (1.0.1)\n",
      "Requirement already satisfied: s3transfer<0.12.0,>=0.11.0 in /opt/conda/lib/python3.10/site-packages (from boto3) (0.11.2)\n",
      "Requirement already satisfied: botocore<1.37.0,>=1.36.26 in /opt/conda/lib/python3.10/site-packages (from boto3) (1.36.26)\n",
      "Requirement already satisfied: python-dateutil<3.0.0,>=2.1 in /opt/conda/lib/python3.10/site-packages (from botocore<1.37.0,>=1.36.26->boto3) (2.8.2)\n",
      "Requirement already satisfied: urllib3!=2.2.0,<3,>=1.25.4 in /opt/conda/lib/python3.10/site-packages (from botocore<1.37.0,>=1.36.26->boto3) (1.26.14)\n",
      "Requirement already satisfied: six>=1.5 in /opt/conda/lib/python3.10/site-packages (from python-dateutil<3.0.0,>=2.1->botocore<1.37.0,>=1.36.26->boto3) (1.16.0)\n"
     ]
    }
   ],
   "source": [
    "!pip install pandas\n",
    "!pip install boto3"
   ]
  },
  {
   "cell_type": "code",
   "execution_count": 2,
   "id": "4d1fc3b1-f7eb-4bb0-b874-3b390cd5b42e",
   "metadata": {
    "tags": []
   },
   "outputs": [],
   "source": [
    "import os\n",
    "import numpy as np\n",
    "import pandas as pd\n",
    "from io import BytesIO\n",
    "import boto3"
   ]
  },
  {
   "cell_type": "code",
   "execution_count": 10,
   "id": "5d74af72-31c1-4859-9de7-7b8727247480",
   "metadata": {
    "tags": []
   },
   "outputs": [],
   "source": [
    "diretorio_base='../../arquivos/exercicios/municipios-estados/csv'"
   ]
  },
  {
   "cell_type": "code",
   "execution_count": 31,
   "id": "8a8a0627-7a6e-406e-be6c-5071e17ab1e2",
   "metadata": {
    "tags": []
   },
   "outputs": [],
   "source": [
    "# Conectando ao minio\n",
    "client = boto3.client('s3', \n",
    "    endpoint_url='http://awari-minio-nginx:9000',\n",
    "    aws_access_key_id='oBazxeVyPCLX1D3g',\n",
    "    aws_secret_access_key='dKJSfjsd74HbqWeYX1Th917Hfs4kDA2Q',\n",
    "    aws_session_token=None,\n",
    "    config=boto3.session.Config(signature_version='s3v4'),\n",
    "    verify=False,\n",
    "    region_name='sa-east-1'\n",
    ")"
   ]
  },
  {
   "cell_type": "markdown",
   "id": "9b60bf3b-6029-46ef-be1b-60bac866a353",
   "metadata": {},
   "source": [
    "### * Importar CSVs da pasta /exercicios/municipios-estados/csv/ e salvar como arquivos JSON no MinIO"
   ]
  },
  {
   "cell_type": "code",
   "execution_count": 52,
   "id": "e049d5da-c2c0-4b21-b10f-233a4689dc9d",
   "metadata": {
    "tags": []
   },
   "outputs": [],
   "source": [
    "# Gerando arquivos JSONs a partir de arquivos CSVs\n",
    "for root,dirs,arquivos in os.walk(diretorio_base):\n",
    "    dirs[:] = [d for d in dirs if not d.startswith('.')]\n",
    "    for arquivo in arquivos:\n",
    "        if arquivo.endswith('.csv'):\n",
    "            df = pd.read_csv(os.path.join(diretorio_base, arquivo))\n",
    "            # Converte o DataFrame para JSON\n",
    "            json_data = df.to_json(orient='records', indent=4, force_ascii=False)\n",
    "            nome_sem_extensao = os.path.splitext(arquivo)[0]\n",
    "            caminho_json = os.path.join(diretorio_base, f'{nome_sem_extensao}.json')\n",
    "\n",
    "            with open(caminho_json, 'w', encoding='utf-8') as f:\n",
    "                f.write(json_data)"
   ]
  },
  {
   "cell_type": "code",
   "execution_count": 55,
   "id": "77e7d84d-a9ec-4b5b-b818-b3bb510fa5aa",
   "metadata": {
    "tags": []
   },
   "outputs": [
    {
     "name": "stdout",
     "output_type": "stream",
     "text": [
      "Arquivo 'estados.json' enviado para o MinIO.\n",
      "Arquivo 'municipios.json' enviado para o MinIO.\n"
     ]
    }
   ],
   "source": [
    "# Enviado para o MinIO\n",
    "for root,dirs,arquivos in os.walk(diretorio_base):\n",
    "    dirs[:] = [d for d in dirs if not d.startswith('.')]\n",
    "    for arquivo in arquivos:\n",
    "        if arquivo.endswith('.json'):\n",
    "            caminho_completo = os.path.join(root, arquivo)\n",
    "            caminho_minio = os.path.relpath(caminho_completo, diretorio_base)\n",
    "            parts = [part for part in caminho_minio.split(os.sep) if part not in (\".\", \"..\")]\n",
    "            caminho_minio = \"/\".join(parts)\n",
    "\n",
    "            try:\n",
    "                client.upload_file(\n",
    "                    caminho_completo, 'aula-08', caminho_minio\n",
    "                )\n",
    "                print(f\"Arquivo '{caminho_minio}' enviado para o MinIO.\")\n",
    "            except Exception as err:\n",
    "                print(f\"Erro ao enviar '{caminho_minio}': {err}\")"
   ]
  },
  {
   "cell_type": "markdown",
   "id": "37522dd8-34cc-417e-a1ed-77b546e6dcb0",
   "metadata": {},
   "source": [
    "### * Importar JSONs da pasta de /exercicios/municipios-estados/csv/ e salvar como arquivos CSV no MinIO"
   ]
  },
  {
   "cell_type": "code",
   "execution_count": 73,
   "id": "8d55472e-d81a-4aa9-b305-8c60536041bd",
   "metadata": {
    "tags": []
   },
   "outputs": [],
   "source": [
    "# Gerando arquivos CSVs a partir de arquivos JSONs\n",
    "for arquivo in os.listdir(diretorio_base):\n",
    "    if arquivo.endswith('.json'):\n",
    "        df = pd.read_json(os.path.join(diretorio_base, arquivo))\n",
    "        csv_data = df.to_csv(index=False)\n",
    "        nome_sem_extensao = os.path.splitext(arquivo)[0]\n",
    "        caminho_csv = os.path.join(diretorio_base, f'{nome_sem_extensao}.csv')\n",
    "\n",
    "        with open(caminho_csv, 'w', encoding='utf-8') as f:\n",
    "            f.write(csv_data)\n",
    "    "
   ]
  },
  {
   "cell_type": "code",
   "execution_count": 74,
   "id": "d5ef1081-a143-411c-b72d-b1392dcabc95",
   "metadata": {
    "tags": []
   },
   "outputs": [
    {
     "name": "stdout",
     "output_type": "stream",
     "text": [
      "Arquivo 'estados.csv' enviado para o MinIO.\n",
      "Arquivo 'municipios.csv' enviado para o MinIO.\n"
     ]
    }
   ],
   "source": [
    "# Enviado para o MinIO\n",
    "for arquivo in os.listdir(diretorio_base):\n",
    "    if arquivo.endswith('.csv'):\n",
    "        caminho_completo = os.path.join(diretorio_base, arquivo)\n",
    "        caminho_minio = os.path.relpath(caminho_completo, diretorio_base)\n",
    "        parts = [part for part in caminho_minio.split(os.sep) if part not in (\".\", \"..\")]\n",
    "        caminho_minio = \"/\".join(parts)\n",
    "        \n",
    "        try:\n",
    "            client.upload_file(caminho_completo, 'aula-08', caminho_minio)\n",
    "            print(f\"Arquivo '{caminho_minio}' enviado para o MinIO.\")\n",
    "        except Excepion as err:\n",
    "            print(f\"Erro ao enviar '{caminho_minio}': '{err}'\")\n",
    "        "
   ]
  },
  {
   "cell_type": "markdown",
   "id": "3fc196eb-4bfb-4937-9c1f-a7757e0cbc0c",
   "metadata": {},
   "source": [
    "### * Importar CSVs da pasta de /exercicios/municipios-estados/csv/ e salvar como arquivo .parquet no MinIO"
   ]
  },
  {
   "cell_type": "code",
   "execution_count": 84,
   "id": "30b5d66f-2cbf-464c-90b7-dbacf2c19c35",
   "metadata": {
    "tags": []
   },
   "outputs": [],
   "source": [
    "# Gerando arquivos PARQUETs a partir de arquivos CSVs\n",
    "for arquivo in os.listdir(diretorio_base):\n",
    "    if arquivo.endswith('.csv'):\n",
    "        df = pd.read_csv(os.path.join(diretorio_base,arquivo))\n",
    "        nome_sem_extensao = os.path.splitext(arquivo)[0]\n",
    "        caminho_parquet = os.path.join(diretorio_base, f'{nome_sem_extensao}.parquet')\n",
    "        parquet_data = df.to_parquet(engine='pyarrow')\n",
    "        \n",
    "        with open(caminho_parquet, 'wb') as f:\n",
    "            f.write(parquet_data)\n",
    "            "
   ]
  },
  {
   "cell_type": "code",
   "execution_count": 85,
   "id": "66ba746f-2092-4c6c-85dd-470edc4c32bb",
   "metadata": {
    "tags": []
   },
   "outputs": [
    {
     "name": "stdout",
     "output_type": "stream",
     "text": [
      "Arquivo 'estados.parquet' enviado para o MinIO.\n",
      "Arquivo 'municipios.parquet' enviado para o MinIO.\n"
     ]
    }
   ],
   "source": [
    "# Enviado para o MinIO\n",
    "for arquivo in os.listdir(diretorio_base):\n",
    "    if arquivo.endswith('.parquet'):\n",
    "        caminho_completo = os.path.join(diretorio_base, arquivo)\n",
    "        caminho_minio = os.path.relpath(caminho_completo, diretorio_base)\n",
    "        parts = [part for part in caminho_minio.split(os.sep) if part not in (\".\", \"..\")]\n",
    "        caminho_minio = \"/\".join(parts)\n",
    "        \n",
    "        \n",
    "        try:\n",
    "            client.upload_file(caminho_completo, 'aula-08', caminho_minio)\n",
    "            print(f\"Arquivo '{caminho_minio}' enviado para o MinIO.\")\n",
    "        except Excepion as err:\n",
    "            print(f\"Erro ao enviar '{caminho_minio}': '{err}'\")"
   ]
  },
  {
   "cell_type": "code",
   "execution_count": null,
   "id": "e32001fa-0902-4254-b861-48404ea4054c",
   "metadata": {},
   "outputs": [],
   "source": []
  }
 ],
 "metadata": {
  "kernelspec": {
   "display_name": "Python 3 (ipykernel)",
   "language": "python",
   "name": "python3"
  },
  "language_info": {
   "codemirror_mode": {
    "name": "ipython",
    "version": 3
   },
   "file_extension": ".py",
   "mimetype": "text/x-python",
   "name": "python",
   "nbconvert_exporter": "python",
   "pygments_lexer": "ipython3",
   "version": "3.10.9"
  }
 },
 "nbformat": 4,
 "nbformat_minor": 5
}
